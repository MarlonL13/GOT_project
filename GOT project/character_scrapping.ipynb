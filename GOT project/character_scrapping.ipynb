{
 "cells": [
  {
   "cell_type": "code",
   "execution_count": 1,
   "metadata": {},
   "outputs": [],
   "source": [
    "import pandas as pd\n",
    "import time\n",
    "from selenium import webdriver\n",
    "from selenium.webdriver.common.by import  By\n"
   ]
  },
  {
   "cell_type": "markdown",
   "metadata": {},
   "source": [
    "Opening the page"
   ]
  },
  {
   "cell_type": "code",
   "execution_count": 2,
   "metadata": {},
   "outputs": [],
   "source": [
    "# Creating a driver\n",
    "driver = webdriver.Chrome()\n",
    "\n",
    "# Go to the characters page\n",
    "page_url = \"https://iceandfire.fandom.com/wiki/Category:Characters\"\n",
    "driver.get(page_url)\n",
    "\n",
    "# Clicking on accept cookies\n",
    "time.sleep(3)\n",
    "driver.find_element(By.XPATH, \"//div[contains(text(), 'ACCEPT')]\").click()"
   ]
  },
  {
   "cell_type": "markdown",
   "metadata": {},
   "source": [
    "Scrapping the characters names"
   ]
  },
  {
   "cell_type": "code",
   "execution_count": 3,
   "metadata": {},
   "outputs": [
    {
     "name": "stdout",
     "output_type": "stream",
     "text": [
      "No 'Next' link found.\n"
     ]
    }
   ],
   "source": [
    "# Find characther\n",
    "char_list = []\n",
    "while True:\n",
    "    char_names = driver.find_elements(By.CLASS_NAME, 'category-page__member-link')\n",
    "    for char in char_names:\n",
    "        char_name = char.get_attribute('title')\n",
    "        char_list.append({'character': char_name})\n",
    "    try:\n",
    "        next_link = driver.find_element(By.CLASS_NAME, 'category-page__pagination-next')\n",
    "        next_url = next_link.get_attribute('href')\n",
    "        driver.get(next_url)\n",
    "    except:\n",
    "        print(\"No 'Next' link found.\")\n",
    "        break\n",
    "    "
   ]
  },
  {
   "cell_type": "markdown",
   "metadata": {},
   "source": [
    "Making a pandas dataframe"
   ]
  },
  {
   "cell_type": "code",
   "execution_count": 5,
   "metadata": {},
   "outputs": [],
   "source": [
    "df = pd.DataFrame(char_list)\n",
    "file_path = 'data/char_name.csv'\n",
    "df.to_csv(file_path, index = False)"
   ]
  }
 ],
 "metadata": {
  "kernelspec": {
   "display_name": "Python 3",
   "language": "python",
   "name": "python3"
  },
  "language_info": {
   "codemirror_mode": {
    "name": "ipython",
    "version": 3
   },
   "file_extension": ".py",
   "mimetype": "text/x-python",
   "name": "python",
   "nbconvert_exporter": "python",
   "pygments_lexer": "ipython3",
   "version": "3.12.3"
  }
 },
 "nbformat": 4,
 "nbformat_minor": 2
}
